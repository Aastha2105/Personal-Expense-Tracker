{
  "cells": [
    {
      "cell_type": "markdown",
      "metadata": {
        "id": "view-in-github",
        "colab_type": "text"
      },
      "source": [
        "<a href=\"https://colab.research.google.com/github/Aastha2105/Personal-Expense-Tracker/blob/main/PersonalExpenseTracker.ipynb\" target=\"_parent\"><img src=\"https://colab.research.google.com/assets/colab-badge.svg\" alt=\"Open In Colab\"/></a>"
      ]
    },
    {
      "cell_type": "markdown",
      "metadata": {
        "id": "XtuPXRhs0i_u"
      },
      "source": [
        "Personal Expenses Tracker\n",
        "\n",
        "1. Add Expenses function"
      ]
    },
    {
      "cell_type": "code",
      "execution_count": null,
      "metadata": {
        "id": "j8KluXUWujhC"
      },
      "outputs": [],
      "source": [
        "import csv\n",
        "\n",
        "def add_expense(expenses):\n",
        "  date= input(\"Date (yyyy-mm-dd):\")\n",
        "  category= input(\"Category of expense:\")\n",
        "  amount= float(input(\"Amount spent:\"))\n",
        "  description= input(\"Enter a brief description:\")\n",
        "\n",
        "  expenses.append({\n",
        "      \"date\": date,\n",
        "      \"category\": category,\n",
        "      \"amount\": amount,\n",
        "      \"description\": description\n",
        "  })\n",
        "\n",
        "  print(\"Expenses added!\")\n"
      ]
    },
    {
      "cell_type": "markdown",
      "metadata": {
        "id": "zY1F6uc2xwSK"
      },
      "source": [
        "2. View Expenses function"
      ]
    },
    {
      "cell_type": "code",
      "execution_count": null,
      "metadata": {
        "id": "IftvUOqXx-0s"
      },
      "outputs": [],
      "source": [
        "def view_expenses(expenses):\n",
        "  if not expenses:\n",
        "    print(\"No expenses recorded\")\n",
        "  else:\n",
        "    for expense in expenses:\n",
        "      if all(key in expense for key in [\"date\", \"category\",\"amount\", \"description\"]):\n",
        "        print(\"Date: \", {expense['date']})\n",
        "        print(\"Category: \", {expense['category']})\n",
        "        print(\"Amount: \", {expense['amount']})\n",
        "        print(\"Description: \", {expense['description']})\n",
        "      else:\n",
        "        print(\"Invalid expense!\", expense)"
      ]
    },
    {
      "cell_type": "markdown",
      "metadata": {
        "id": "msh-9EuD1Jbf"
      },
      "source": [
        "3. Set and Track the Budget function"
      ]
    },
    {
      "cell_type": "code",
      "execution_count": null,
      "metadata": {
        "id": "Y-U_mXq71GV2"
      },
      "outputs": [],
      "source": [
        "def set_budget():\n",
        "  budget= float(input(\"Enter budget: \"))\n",
        "  return budget"
      ]
    },
    {
      "cell_type": "code",
      "execution_count": null,
      "metadata": {
        "id": "KRbHJUpq025I"
      },
      "outputs": [],
      "source": [
        "def track_budget(expenses, budget):\n",
        "  total_expenses=0\n",
        "  for expense in expenses:\n",
        "    total_expenses+= (expense['amount'])\n",
        "  print(\"Total expenses: \", total_expenses)\n",
        "  if total_expenses> budget:\n",
        "    print(\"Exceeded budget!\")\n",
        "  else:\n",
        "    print(\"Within budget. You have \", (budget- total_expenses), \"remaining\")"
      ]
    },
    {
      "cell_type": "markdown",
      "metadata": {
        "id": "M94BQvPM3Ib1"
      },
      "source": [
        "4. Save and Load expenses function"
      ]
    },
    {
      "cell_type": "code",
      "execution_count": null,
      "metadata": {
        "id": "QCu8AixX3MNl"
      },
      "outputs": [],
      "source": [
        "def save_expenses(expenses, filename= 'expenses.csv'):\n",
        "  with open(filename, 'w', newline='') as file:\n",
        "    writer= csv.writer(file)\n",
        "    writer.writerow([\"Date\",\"Category\",\"Amount\",\"Description\"])\n",
        "    for expense in expenses:\n",
        "      writer.writerow({expense['date']},{expense['category']},{expense['amount']},{expense['description']})\n",
        "  print(\"Expenses saved\")"
      ]
    },
    {
      "cell_type": "code",
      "execution_count": null,
      "metadata": {
        "id": "3NKbwzXj49n0"
      },
      "outputs": [],
      "source": [
        "def load_expenses(filename= \"expenses.csv\"):\n",
        "  expenses=[]\n",
        "  try:\n",
        "    with open(filename,'r') as file:\n",
        "      reader= csv.DictReader(file)\n",
        "      for row in reader:\n",
        "        if all(key in row for key in [\"Date\",\"Category\",\"Amount\",\"Description\"]):\n",
        "          row[\"amount\"]= float(row[\"Amount\"])\n",
        "          expense= {\n",
        "              'date':row[\"Date\"],\n",
        "              'category': row[\"Category\"],\n",
        "              'amount' : row[\"Amount\"],\n",
        "              'description': row[\"Description\"]\n",
        "          }\n",
        "          expenses.append(expense)\n",
        "        else:\n",
        "          print(\"Invalid expense\")\n",
        "  except FileNotFoundError:\n",
        "    print(\"No existing expenses. File not found\")\n",
        "  return expenses\n",
        "\n"
      ]
    },
    {
      "cell_type": "markdown",
      "metadata": {
        "id": "f0xHuykL62CJ"
      },
      "source": [
        "5. Create an interactive menu function"
      ]
    },
    {
      "cell_type": "code",
      "execution_count": null,
      "metadata": {
        "colab": {
          "background_save": true,
          "base_uri": "https://localhost:8080/"
        },
        "id": "cBCb_88F608s",
        "outputId": "69840c51-f092-4de1-f3a8-46508a8566f0"
      },
      "outputs": [
        {
          "name": "stdout",
          "output_type": "stream",
          "text": [
            "Expense Tracker\n",
            "1. Add expense\n",
            "2. View expenses\n",
            "3. Track budget\n",
            "4. Save expenses\n",
            "5. Exit\n",
            "Total expenses:  0\n",
            "Within budget. You have  500.0 remaining\n",
            "Expense Tracker\n",
            "1. Add expense\n",
            "2. View expenses\n",
            "3. Track budget\n",
            "4. Save expenses\n",
            "5. Exit\n",
            "Invalid choice\n",
            "Expense Tracker\n",
            "1. Add expense\n",
            "2. View expenses\n",
            "3. Track budget\n",
            "4. Save expenses\n",
            "5. Exit\n",
            "Expenses added!\n",
            "Expense Tracker\n",
            "1. Add expense\n",
            "2. View expenses\n",
            "3. Track budget\n",
            "4. Save expenses\n",
            "5. Exit\n",
            "Expenses added!\n",
            "Expense Tracker\n",
            "1. Add expense\n",
            "2. View expenses\n",
            "3. Track budget\n",
            "4. Save expenses\n",
            "5. Exit\n",
            "Total expenses:  230.0\n",
            "Within budget. You have  270.0 remaining\n",
            "Expense Tracker\n",
            "1. Add expense\n",
            "2. View expenses\n",
            "3. Track budget\n",
            "4. Save expenses\n",
            "5. Exit\n",
            "Date:  {'2024-01-01'}\n",
            "Category:  {'food'}\n",
            "Amount:  {200.0}\n",
            "Description:  {'apple'}\n",
            "Date:  {'2024-02-02'}\n",
            "Category:  {'clothes'}\n",
            "Amount:  {30.0}\n",
            "Description:  {'socks'}\n",
            "Expense Tracker\n",
            "1. Add expense\n",
            "2. View expenses\n",
            "3. Track budget\n",
            "4. Save expenses\n",
            "5. Exit\n",
            "Expenses added!\n",
            "Expense Tracker\n",
            "1. Add expense\n",
            "2. View expenses\n",
            "3. Track budget\n",
            "4. Save expenses\n",
            "5. Exit\n",
            "Total expenses:  730.0\n",
            "Exceeded budget!\n",
            "Expense Tracker\n",
            "1. Add expense\n",
            "2. View expenses\n",
            "3. Track budget\n",
            "4. Save expenses\n",
            "5. Exit\n"
          ]
        }
      ],
      "source": [
        "def main():\n",
        "  expenses= load_expenses()\n",
        "  budget= set_budget()\n",
        "  while True:\n",
        "    print(\"Expense Tracker\")\n",
        "    print(\"1. Add expense\")\n",
        "    print(\"2. View expenses\")\n",
        "    print(\"3. Track budget\")\n",
        "    print(\"4. Save expenses\")\n",
        "    print(\"5. Exit\")\n",
        "\n",
        "    option= float(input(\"Select option: \"))\n",
        "    if option== 1:\n",
        "      add_expense(expenses)\n",
        "    elif option== 2:\n",
        "      view_expenses(expenses)\n",
        "    elif option== 3:\n",
        "      track_budget(expenses, budget)\n",
        "    elif option== 4:\n",
        "      save_expenses(expenses)\n",
        "    elif option== 5:\n",
        "      save_expenses(expenses)\n",
        "      print(\"Exiting\")\n",
        "      break\n",
        "    else:\n",
        "      print(\"Invalid choice\")\n",
        "\n",
        "if __name__== \"__main__\":\n",
        "  main()\n"
      ]
    },
    {
      "cell_type": "code",
      "execution_count": null,
      "metadata": {
        "id": "jXHDCRKG9ZaG"
      },
      "outputs": [],
      "source": []
    }
  ],
  "metadata": {
    "colab": {
      "provenance": [],
      "authorship_tag": "ABX9TyPlUaUirspn1RtAaGgpSJoL",
      "include_colab_link": true
    },
    "kernelspec": {
      "display_name": "Python 3",
      "name": "python3"
    },
    "language_info": {
      "name": "python"
    }
  },
  "nbformat": 4,
  "nbformat_minor": 0
}